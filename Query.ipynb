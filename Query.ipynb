import pandas as pd
import matplotlib.pyplot as plt
import wbgapi as wb

